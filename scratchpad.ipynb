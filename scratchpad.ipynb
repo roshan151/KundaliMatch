{
 "cells": [
  {
   "cell_type": "code",
   "execution_count": 1,
   "metadata": {},
   "outputs": [
    {
     "data": {
      "text/plain": [
       "True"
      ]
     },
     "execution_count": 1,
     "metadata": {},
     "output_type": "execute_result"
    }
   ],
   "source": [
    "import sys\n",
    "sys.path.append('/opt/anaconda3/lib/python3.12/site-packages')\n",
    "from config import config\n",
    "from snowflake_utils import SnowConnect\n",
    "\n",
    "from dotenv import load_dotenv\n",
    "load_dotenv()"
   ]
  },
  {
   "cell_type": "code",
   "execution_count": 2,
   "metadata": {},
   "outputs": [],
   "source": [
    "profile_connect = SnowConnect(config.PROFILE_TABLE_WAREHOUSE, config.PROFILE_TABLE_DATABASE, config.PROFILE_TABLE_SCHEMA)"
   ]
  },
  {
   "cell_type": "code",
   "execution_count": 3,
   "metadata": {},
   "outputs": [
    {
     "data": {
      "text/plain": [
       "[('IMAGES', 'TEXT', 'YES'),\n",
       " ('BIRTH_COUNTRY', 'TEXT', 'YES'),\n",
       " ('PASSWORD', 'TEXT', 'YES'),\n",
       " ('COUNTRY', 'TEXT', 'YES'),\n",
       " ('EMAIL', 'TEXT', 'YES'),\n",
       " ('DOB', 'TEXT', 'YES'),\n",
       " ('CITY', 'TEXT', 'YES'),\n",
       " ('TOB', 'TIME', 'YES'),\n",
       " ('PROFESSION', 'TEXT', 'YES'),\n",
       " ('LAT', 'TEXT', 'YES'),\n",
       " ('PHONE', 'TEXT', 'YES'),\n",
       " ('BIRTH_CITY', 'TEXT', 'YES'),\n",
       " ('HOBBIES', 'TEXT', 'YES'),\n",
       " ('LONG', 'TEXT', 'YES'),\n",
       " ('UID', 'TEXT', 'YES'),\n",
       " ('GENDER', 'TEXT', 'YES'),\n",
       " ('CREATED', 'TIMESTAMP_NTZ', 'YES'),\n",
       " ('NAME', 'TEXT', 'YES'),\n",
       " ('LOGIN', 'TIMESTAMP_NTZ', 'YES')]"
      ]
     },
     "execution_count": 3,
     "metadata": {},
     "output_type": "execute_result"
    }
   ],
   "source": [
    "sql = f\"SELECT column_name, data_type, is_nullable FROM information_schema.columns WHERE table_schema = '{config.PROFILE_TABLE_SCHEMA}' AND table_name = '{config.PROFILE_TABLE}'\"\n",
    "profile_connect.cursor.execute(sql)\n",
    "\n",
    "# Fetch all results\n",
    "results = profile_connect.cursor.fetchall()\n",
    "results"
   ]
  },
  {
   "cell_type": "code",
   "execution_count": null,
   "metadata": {},
   "outputs": [],
   "source": [
    "sql = F'ALTER TABLE {config.PROFILE_TABLE} ADD COLUMN PASSWORD TEXT'\n",
    "profile_connect.cursor.execute(sql)\n"
   ]
  },
  {
   "cell_type": "code",
   "execution_count": 11,
   "metadata": {},
   "outputs": [],
   "source": [
    "profile_connect.conn.commit()\n",
    "profile_connect.close()"
   ]
  },
  {
   "cell_type": "code",
   "execution_count": 10,
   "metadata": {},
   "outputs": [
    {
     "data": {
      "text/plain": [
       "<snowflake.connector.cursor.SnowflakeCursor at 0x13fc55ca0>"
      ]
     },
     "execution_count": 10,
     "metadata": {},
     "output_type": "execute_result"
    }
   ],
   "source": [
    "sql = F'ALTER TABLE {config.PROFILE_TABLE} ADD COLUMN BIRTH_COUNTRY TEXT'\n",
    "profile_connect.cursor.execute(sql)"
   ]
  },
  {
   "cell_type": "code",
   "execution_count": 11,
   "metadata": {},
   "outputs": [],
   "source": [
    "import time\n",
    "t = current_time = time.strftime(\"%Y-%m-%d %H:%M:%S\", time.localtime())"
   ]
  },
  {
   "cell_type": "code",
   "execution_count": 12,
   "metadata": {},
   "outputs": [],
   "source": [
    "t2 = current_time = time.strftime(\"%Y-%m-%d %H:%M:%S\", time.localtime())"
   ]
  },
  {
   "cell_type": "code",
   "execution_count": 16,
   "metadata": {},
   "outputs": [
    {
     "data": {
      "text/plain": [
       "str"
      ]
     },
     "execution_count": 16,
     "metadata": {},
     "output_type": "execute_result"
    }
   ],
   "source": [
    "type(t)"
   ]
  },
  {
   "cell_type": "code",
   "execution_count": 17,
   "metadata": {},
   "outputs": [
    {
     "name": "stdout",
     "output_type": "stream",
     "text": [
      "\u001b[31mERROR: Could not find a version that satisfies the requirement panchanga (from versions: none)\u001b[0m\u001b[31m\n",
      "\u001b[0m\u001b[31mERROR: No matching distribution found for panchanga\u001b[0m\u001b[31m\n",
      "\u001b[0m"
     ]
    }
   ],
   "source": [
    "!pip install panchanga"
   ]
  },
  {
   "cell_type": "code",
   "execution_count": 9,
   "metadata": {},
   "outputs": [],
   "source": [
    "select_sql = f\"SELECT * FROM {config.PROFILE_TABLE} WHERE GENDER='male'\"\n",
    "profile_connect.cursor.execute(select_sql)\n",
    "\n",
    "# Fetch all results\n",
    "results = profile_connect.cursor.fetchall()"
   ]
  },
  {
   "cell_type": "code",
   "execution_count": 10,
   "metadata": {},
   "outputs": [
    {
     "data": {
      "text/plain": [
       "('los angeles',\n",
       " 'usa',\n",
       " datetime.datetime(2025, 5, 20, 9, 0),\n",
       " '{\"day\":3,\"month\":11,\"year\":1985}',\n",
       " 'bob.smith@example.com',\n",
       " 'male',\n",
       " '[\"gaming\",\"cooking\"]',\n",
       " '[\"bob1.png\"]',\n",
       " '34.0522',\n",
       " datetime.datetime(2025, 6, 3, 18, 12),\n",
       " '-118.2437',\n",
       " 'Bob Smith',\n",
       " '9876543210',\n",
       " datetime.time(8, 20),\n",
       " 'user_002')"
      ]
     },
     "execution_count": 10,
     "metadata": {},
     "output_type": "execute_result"
    }
   ],
   "source": [
    "results[0]#[14]\n"
   ]
  },
  {
   "cell_type": "code",
   "execution_count": 3,
   "metadata": {},
   "outputs": [],
   "source": [
    "import os\n",
    "import boto3\n",
    "\n",
    "s3 = boto3.client('s3',\n",
    "    aws_access_key_id=os.getenv('S3_ACCESS_ID'),\n",
    "    aws_secret_access_key=os.getenv('S3_ACCESS_KEY'))\n",
    "BUCKET_NAME = os.getenv('BUCKET')\n",
    "REGION = os.getenv(\"REGION\")  # e.g., 'us-east-1'\n",
    "\n",
    "s3.upload_file('./test-images/srk-1.png', BUCKET_NAME, 'srk-1.png')\n",
    "\n",
    "# Construct public URL\n",
    "url = f\"https://{BUCKET_NAME}.s3.{REGION}.amazonaws.com/srk1.png\""
   ]
  },
  {
   "cell_type": "code",
   "execution_count": 7,
   "metadata": {},
   "outputs": [],
   "source": [
    "a = [1, 2]\n",
    "a = str(a)"
   ]
  },
  {
   "cell_type": "code",
   "execution_count": 4,
   "metadata": {},
   "outputs": [],
   "source": [
    "import time\n",
    "\n",
    "current_time = time.strftime(\"%Y-%m-%d %H:%M:%S\", time.localtime())"
   ]
  },
  {
   "cell_type": "code",
   "execution_count": 6,
   "metadata": {},
   "outputs": [
    {
     "data": {
      "text/plain": [
       "str"
      ]
     },
     "execution_count": 6,
     "metadata": {},
     "output_type": "execute_result"
    }
   ],
   "source": [
    "type(current_time)"
   ]
  },
  {
   "cell_type": "code",
   "execution_count": 1,
   "metadata": {},
   "outputs": [],
   "source": [
    "from geopy.geocoders import Nominatim"
   ]
  },
  {
   "cell_type": "code",
   "execution_count": 4,
   "metadata": {},
   "outputs": [],
   "source": [
    "def get_lat_long(address):\n",
    "    geolocator = Nominatim(user_agent=\"geo_locator\")\n",
    "    location = geolocator.geocode(address, timeout=10)\n",
    "    if location:\n",
    "        return location.latitude, location.longitude\n",
    "    else:\n",
    "        return None, None"
   ]
  },
  {
   "cell_type": "code",
   "execution_count": 5,
   "metadata": {},
   "outputs": [],
   "source": [
    "lat, long = get_lat_long('new york, usa')"
   ]
  },
  {
   "cell_type": "code",
   "execution_count": 6,
   "metadata": {},
   "outputs": [
    {
     "data": {
      "text/plain": [
       "(40.7127281, -74.0060152)"
      ]
     },
     "execution_count": 6,
     "metadata": {},
     "output_type": "execute_result"
    }
   ],
   "source": [
    "lat, long"
   ]
  },
  {
   "cell_type": "code",
   "execution_count": null,
   "metadata": {},
   "outputs": [],
   "source": []
  }
 ],
 "metadata": {
  "kernelspec": {
   "display_name": "base",
   "language": "python",
   "name": "python3"
  },
  "language_info": {
   "codemirror_mode": {
    "name": "ipython",
    "version": 3
   },
   "file_extension": ".py",
   "mimetype": "text/x-python",
   "name": "python",
   "nbconvert_exporter": "python",
   "pygments_lexer": "ipython3",
   "version": "3.12.7"
  }
 },
 "nbformat": 4,
 "nbformat_minor": 2
}
